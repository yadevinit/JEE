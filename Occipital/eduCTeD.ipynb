{
  "cells": [
    {
      "metadata": {
        "trusted": true
      },
      "cell_type": "code",
      "source": "options(unzip = 'internal')\nlibrary(devtools)\ndevtools::install_github('rstudio/shiny')\ndevtools::install_github('cschwem2er/stminsights')",
      "execution_count": null,
      "outputs": []
    },
    {
      "metadata": {
        "trusted": true
      },
      "cell_type": "code",
      "source": "  install.packages(\"stmBrowser\")",
      "execution_count": null,
      "outputs": []
    },
    {
      "metadata": {
        "trusted": true
      },
      "cell_type": "code",
      "source": "  if(!require(devtools)) install.packages(\"devtools\")\n  library(devtools)\n  install_github(\"mroberts/stmBrowser\", dependencies=TRUE)\nlibrary(stmBrowser)",
      "execution_count": null,
      "outputs": []
    },
    {
      "metadata": {
        "trusted": true
      },
      "cell_type": "code",
      "source": "library(stmBrowser)",
      "execution_count": null,
      "outputs": []
    },
    {
      "metadata": {
        "trusted": true
      },
      "cell_type": "code",
      "source": "install.packages(\"stm\")\nlibrary(stm)",
      "execution_count": 1,
      "outputs": [
        {
          "output_type": "stream",
          "text": "Installing package into ‘/home/nbuser/R’\n(as ‘lib’ is unspecified)\nstm v1.3.5 successfully loaded. See ?stm for help. \n Papers, resources, and other materials at structuraltopicmodel.com\n",
          "name": "stderr"
        }
      ]
    },
    {
      "metadata": {
        "trusted": true
      },
      "cell_type": "code",
      "source": "stm()",
      "execution_count": 2,
      "outputs": [
        {
          "output_type": "error",
          "ename": "ERROR",
          "evalue": "Error in asSTMCorpus(documents, vocab, data): argument \"documents\" is missing, with no default\n",
          "traceback": [
            "Error in asSTMCorpus(documents, vocab, data): argument \"documents\" is missing, with no default\nTraceback:\n",
            "1. stm()",
            "2. asSTMCorpus(documents, vocab, data)"
          ]
        }
      ]
    },
    {
      "metadata": {
        "trusted": true
      },
      "cell_type": "code",
      "source": "",
      "execution_count": null,
      "outputs": []
    }
  ],
  "metadata": {
    "kernelspec": {
      "name": "r",
      "display_name": "R",
      "language": "R"
    },
    "language_info": {
      "mimetype": "text/x-r-source",
      "name": "R",
      "pygments_lexer": "r",
      "version": "3.5.3",
      "file_extension": ".r",
      "codemirror_mode": "r"
    }
  },
  "nbformat": 4,
  "nbformat_minor": 2
}